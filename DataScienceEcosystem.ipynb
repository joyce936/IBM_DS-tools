{
 "cells": [
  {
   "cell_type": "markdown",
   "id": "218af813",
   "metadata": {},
   "source": [
    "# Data Science Tools and Ecosystem"
   ]
  },
  {
   "cell_type": "markdown",
   "id": "f71e6abc",
   "metadata": {},
   "source": [
    "In this notebook, Data Science Tools and Ecosystem are summarized."
   ]
  },
  {
   "cell_type": "markdown",
   "id": "2c7651cc",
   "metadata": {},
   "source": [
    "Some of the popular languages that Data Scientists use are:\n",
    "1. R Studio\n",
    "2. Microsoft Visual Studio\n",
    "3. MySQL\n",
    "4. MongoDB"
   ]
  },
  {
   "cell_type": "markdown",
   "id": "78d77bc0",
   "metadata": {},
   "source": [
    "List of common libraries used by Data Scientists include:\n",
    "1. matplotlib\n",
    "2. pandas\n",
    "3. NLTK\n",
    "4. Plotly"
   ]
  },
  {
   "cell_type": "markdown",
   "id": "47566301",
   "metadata": {},
   "source": [
    "### A table of Data Science tools\n",
    "| Data Science Tools  |\n",
    "|---------------------|\n",
    "| Jupyter Notebook    |\n",
    "| R Studio            |\n",
    "| Apache Zeppelin     |"
   ]
  },
  {
   "cell_type": "markdown",
   "id": "4d8ed415",
   "metadata": {},
   "source": [
    "### Below are a few examples of evaluating arithmetic expressions in Python"
   ]
  },
  {
   "cell_type": "markdown",
   "id": "a4d83e8e",
   "metadata": {},
   "source": [
    "- Create a code cell to multiply and add numbers"
   ]
  },
  {
   "cell_type": "code",
   "execution_count": null,
   "id": "9d753570",
   "metadata": {},
   "outputs": [
    {
     "data": {
      "text/plain": [
       "17"
      ]
     },
     "execution_count": 4,
     "metadata": {},
     "output_type": "execute_result"
    }
   ],
   "source": [
    "# This a simple arithmetic expression to mutiply then add integers.\n",
    "x=(3*4)+5\n",
    "x"
   ]
  },
  {
   "cell_type": "code",
   "execution_count": null,
   "id": "0339dae1",
   "metadata": {},
   "outputs": [
    {
     "data": {
      "text/plain": [
       "3.3333333333333335"
      ]
     },
     "execution_count": 5,
     "metadata": {},
     "output_type": "execute_result"
    }
   ],
   "source": [
    "# This will convert 200 minutes to hours by diving by 60.\n",
    "min_hrs = 200/60\n",
    "min_hrs"
   ]
  },
  {
   "cell_type": "markdown",
   "id": "c7db8a35",
   "metadata": {},
   "source": [
    "# key takeaways from the course\n",
    "\n",
    "**Objectives**\n",
    "- Data Sci tools\n",
    "- Data Sci Langnages\n",
    "- Data Sci Libraries"
   ]
  },
  {
   "cell_type": "markdown",
   "id": "c8e539eb",
   "metadata": {},
   "source": [
    "## Author\n",
    "\n",
    "[Yeo Xiu Juan](https://www.linkedin.com/in/lakshmi-holla-b39062149/) \n"
   ]
  }
 ],
 "metadata": {
  "kernelspec": {
   "display_name": "Python 3",
   "language": "python",
   "name": "python3"
  },
  "language_info": {
   "codemirror_mode": {
    "name": "ipython",
    "version": 3
   },
   "file_extension": ".py",
   "mimetype": "text/x-python",
   "name": "python",
   "nbconvert_exporter": "python",
   "pygments_lexer": "ipython3",
   "version": "3.12.9"
  }
 },
 "nbformat": 4,
 "nbformat_minor": 5
}
